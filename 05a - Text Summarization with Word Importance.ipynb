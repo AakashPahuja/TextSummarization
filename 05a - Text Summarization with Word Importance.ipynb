{
 "cells": [
  {
   "cell_type": "markdown",
   "metadata": {},
   "source": [
    "# Text Summarization using Word Importance\n",
    "\n",
    "In this lecture we will apply the NLP technique you learned in previous lectures to solve a very useful problem: text summarization."
   ]
  },
  {
   "cell_type": "code",
   "execution_count": 2,
   "metadata": {
    "collapsed": true
   },
   "outputs": [],
   "source": [
    "import sys\n",
    "import nltk\n",
    "import math\n",
    "import operator\n",
    "import urllib.request\n",
    "from bs4 import BeautifulSoup\n",
    "from nltk import FreqDist\n",
    "from nltk.tokenize import sent_tokenize,word_tokenize\n",
    "from nltk.corpus import stopwords\n"
   ]
  },
  {
   "cell_type": "markdown",
   "metadata": {},
   "source": [
    "Many news produce HTML content using specific tag. The most common one is &lt;article&gt;&lt;/article&gt; that contains the actual textual information."
   ]
  },
  {
   "cell_type": "code",
   "execution_count": 3,
   "metadata": {
    "collapsed": true
   },
   "outputs": [],
   "source": [
    "def getArticle(url,tag):\n",
    "    # Most content providers will use the <article></article> tag to delimite the actual article's text\n",
    "    try:\n",
    "        response = urllib.request.urlopen(url)\n",
    "        html = response.read().decode('utf-8')\n",
    "        soup = BeautifulSoup(html,\"html.parser\")\n",
    "    except:\n",
    "        print (\"Unexpected error:\", sys.exc_info()[1])\n",
    "        return (None,None)\n",
    "    \n",
    "    if (soup is None):\n",
    "        return (None, None)\n",
    "    \n",
    "    article = \"\"\n",
    "    \n",
    "    # Finding the tag within the HTML\n",
    "    if (soup.find_all(tag) is not None):\n",
    "        article = ''.join(map(lambda p: p.text, soup.find_all(tag)))\n",
    "        # Finding the paragraphs <p> tag\n",
    "        #soup_p = BeautifulSoup(article, \"html.parser\")\n",
    "        #if (soup_p.find_all('p') is not None):\n",
    "        #    article = ''.join(map(lambda p: p.text, soup_p.find_all('p')))\n",
    "            \n",
    "    return article, soup.title.text"
   ]
  },
  {
   "cell_type": "markdown",
   "metadata": {},
   "source": [
    "## Defining all NLP functions Needed"
   ]
  },
  {
   "cell_type": "code",
   "execution_count": 4,
   "metadata": {
    "collapsed": true
   },
   "outputs": [],
   "source": [
    "def remove_punctuation(corpus):\n",
    "    punctuations = \".,\\\"-\\\\/#!?$%\\^&\\*;:{}=\\-_'~()\"    \n",
    "    filtered_corpus = [token for token in corpus if (not token in punctuations)]\n",
    "    return filtered_corpus\n",
    "\n",
    "def apply_stopwording(corpus, min_len):\n",
    "    filtered_corpus = [token for token in corpus if (not token in stopwords.words('english') and len(token)>min_len)]\n",
    "    return filtered_corpus\n",
    "\n",
    "def apply_stemming(corpus):\n",
    "    stemmer = nltk.PorterStemmer()\n",
    "    normalized_corpus = [stemmer.stem(token) for token in corpus]\n",
    "    return normalized_corpus\n",
    "\n",
    "def apply_lemmatization(corpus):\n",
    "    lemmatizer = nltk.WordNetLemmatizer()\n",
    "    normalized_corpus = [lemmatizer.lemmatize(token) for token in corpus]\n",
    "    return normalized_corpus\n",
    "\n",
    "def getSummary(article, low, high, num_of_sentences):\n",
    "    freq={}\n",
    "    sentences = sent_tokenize(article)\n",
    "    # Calculate word frequencies\n",
    "    for sentence in sentences:\n",
    "        doc =nltk.Text(nltk.word_tokenize(sentence.lower()))\n",
    "        doc_clean = apply_lemmatization(apply_stopwording(remove_punctuation(doc), 3))\n",
    "        for token in doc_clean:\n",
    "            if token in freq.keys():\n",
    "                freq[token]+=1\n",
    "            else:\n",
    "                freq[token]=1\n",
    "    \n",
    "    #Normalize the counts: divide by the largest frequency so we can make comparisons\n",
    "    max_freq = float(max(freq.values()))\n",
    "    freq_final={}\n",
    "\n",
    "    #Removing too frequenty (max_freq) or less frequent (min_frequent) elements\n",
    "    for token in freq.keys():\n",
    "        freq[token]=freq[token]/max_freq\n",
    "        if (freq[token]<high and freq[token]>low):\n",
    "            freq_final[token]=freq[token]\n",
    "    \n",
    "    # For debugging purposes\n",
    "    #print (len(freq.keys()))\n",
    "    #print (len(freq_final.keys()))\n",
    "    \n",
    "    #Now we are ready to summarize\n",
    "    # 1. Score all sentences: Sum of all the frequency scores for all terms in the sentence\n",
    "    # 2. Normalize the sentence score (longer sentences will score higher) by dividing by the longest sentence length\n",
    "    # 3. Rank the sentences and return the top <num_of_senteces>\n",
    "    \n",
    "    scores = {}\n",
    "    sLen = 0.0\n",
    "    # 1. Score all sentences\n",
    "    for sentence in sentences:\n",
    "        # Process each sentence\n",
    "        doc =nltk.Text(nltk.word_tokenize(sentence.lower()))\n",
    "        doc_clean = apply_lemmatization(apply_stopwording(remove_punctuation(doc), 3))\n",
    "        \n",
    "        # Identify the longest sentence length\n",
    "        if len(doc_clean)>sLen:\n",
    "            sLen = len(doc_clean)\n",
    "        \n",
    "        # Score the sentence\n",
    "        for token in doc_clean:\n",
    "            if (token in freq_final.keys()):\n",
    "                if sentence in scores.keys():\n",
    "                    scores[sentence]+=freq_final[token]\n",
    "                else:\n",
    "                    scores[sentence]=freq_final[token]\n",
    "        \n",
    "    # 2. Normalize the sentence score\n",
    "    for key in scores.keys():\n",
    "        scores[key]=scores[key]/sLen\n",
    "\n",
    "    # 3. Rank the scores\n",
    "    sorted_sentences = reversed(sorted(scores.items(), key=operator.itemgetter(1)))\n",
    "    \n",
    "    # 4. Return the top <num_of_sentences>\n",
    "    count = 1\n",
    "    result = []\n",
    "    for s in sorted_sentences:\n",
    "        #print (\"(%s) - %s\" % (score, sentence))\n",
    "        if (count<= num_of_sentences):\n",
    "            sentence = s[0]\n",
    "            score = s[1]\n",
    "            result.append(sentence)\n",
    "            count+=1\n",
    "    return result"
   ]
  },
  {
   "cell_type": "code",
   "execution_count": 5,
   "metadata": {
    "collapsed": true
   },
   "outputs": [],
   "source": [
    "url = \"https://www.washingtonpost.com/opinions/on-gun-violence-we-are-a-failed-state/2018/02/18/88ecf09a-137a-11e8-9065-e55346f6de81_story.html\"\n",
    "tag =\"article\"\n",
    "article, title = getArticle(url,tag)"
   ]
  },
  {
   "cell_type": "code",
   "execution_count": 10,
   "metadata": {},
   "outputs": [
    {
     "name": "stdout",
     "output_type": "stream",
     "text": [
      "And Peter Stone and Greg Gordon of McClatchy reported in January that the FBI “is investigating whether a top Russian banker with ties to the Kremlin illegally funneled money to the National Rifle Association to help Donald Trump win the presidency.”  Wherever this Russia story goes, we already know that the NRA and its political servants are immobilizing our government on one of the gravest problems confronting us.\n",
      "President Trump’s rote address to the nation after the killing of 17 people at Marjory Stoneman Douglas High School in Parkland, Fla., had all the passion of a CEO delivering a middling annual report.\n",
      "He told us: “We are committed to working with state and local leaders to help secure our schools and tackle the difficult issue of mental health.”  Trump’s speech, as Vox’s German Lopez observed, was “one giant lie by omission.” Those 17 people were killed by an AR-15 rifle, not by a knife or a sword or a bomb.\n",
      "Yes, and if Trump cared so much about mental health, he wouldn’t be proposing a $250 billion cut over a decade in Medicaid, which pays for more than 25 percent of the nation’s mental health care.\n",
      "Kathleen Parker: A shooting survivor’s plea: ‘Ideas are great’ but ‘what we need is action’   The Post’s View: Ban these weapons of war   Elizabeth Bruenig: The latest schoolhouse slaughter shows we have been defeated   David Von Drehle: Another school shooting, another cruel reminder to parents\n"
     ]
    }
   ],
   "source": [
    "summary = getSummary(article,0.15,0.9,5)\n",
    "for s in summary:\n",
    "    print (s)"
   ]
  },
  {
   "cell_type": "code",
   "execution_count": null,
   "metadata": {
    "collapsed": true
   },
   "outputs": [],
   "source": [
    "summary = getSummary(article,2)\n",
    "print (\"# of sentences: \"+str(len(summary)))\n",
    "index = 1\n",
    "for sentence in summary:\n",
    "    print (\"%s - %s\" % (index,sentence))\n",
    "    index+=1\n",
    "    "
   ]
  },
  {
   "cell_type": "code",
   "execution_count": 8,
   "metadata": {},
   "outputs": [
    {
     "name": "stdout",
     "output_type": "stream",
     "text": [
      " The surest sign a political regime is failing is its inability to do anything about a problem universally seen as urgent that has some obvious remedies. And it’s a mark of political corruption when unaccountable cliques block solutions that enjoy broad support and force their selfish interests to prevail over the common good.  On gun violence, the United States has become a corrupt failed state. This is the only conclusion to draw from the endless enraging replays of the same political paralysis, no matter how many children are gunned down at our schools or how many innocent Americans are slaughtered at shopping centers and other public places. Whatever happens, we can’t ban assault weapons, we can’t strengthen background checks, we can’t do anything. In corrupt failed states, politics is about lying and misdirection. On guns, our debate is a pack of lies and evasions. In no other country is the phrase “thoughts and prayers” a sacrilege, a cover for cowardice. In no other country are the words “mental health” so empty. They are muttered by politicians who have no history of caring in the least about programs to help those with psychological or psychiatric difficulties. But they need to say something to rationalize their allegiance to a gun lobby that appears to be utterly indifferent to mass murder. President Trump’s rote address to the nation after the killing of 17 people at Marjory Stoneman Douglas High School in Parkland, Fla., had all the passion of a CEO delivering a middling annual report. He told us: “We are committed to working with state and local leaders to help secure our schools and tackle the difficult issue of mental health.”  Trump’s speech, as Vox’s German Lopez observed, was “one giant lie by omission.” Those 17 people were killed by an AR-15 rifle, not by a knife or a sword or a bomb. But God forbid the president mention guns. Vox also noted that people with mental illness are more likely to be the victims, not the perpetrators, of violence. Yes, and if Trump cared so much about mental health, he wouldn’t be proposing a $250 billion cut over a decade in Medicaid, which pays for more than 25 percent of the nation’s mental health care. Memo to the media: Stop saying in somber, serious tones that we must do more about mental health. This might well be true, but in the context of crimes such as those at Stoneman Douglas High, offering such sentiments is to be complicit in propaganda by pretending that a cover story is actually on the level. We should not have to point out over and over that while mental illness exists everywhere, other countries do not have killing sprees comparable to ours. Trump brought home his complete indifference to the suffering in Florida with a tweet over the weekend that can only be described as obscene. He attacked the FBI for missing “the many signals sent out by the Florida shooter” because “it was spending too much time proving Russia collusion with the Trump campaign.” It was an extreme example of his pathological self-involvement and an astonishing exercise in evading the issues at the heart of the tragedy. At the heart of our political system’s failure to address the epidemic of violence is the Republican Party’s decision to become a paid agent of the gun manufacturers’ lobby. The party of law and order cares about neither if doing so means causing the least disturbance to the National Rifle Association.  This is where corruption comes in. One Republican politician after another who couldn’t even utter the word “gun” following the Parkland horror turned out to have received millions from the NRA. And it’s no wonder that Trump decided he cared so much about mental health. The organization spent $30 million to defeat Hillary Clinton in 2016.  Aggravating our difficulty in regulating weapons is the vast overrepresentation of rural states in the U.S. Senate, which makes some Democrats wary of taking on the NRA. This is another classic problem of failed regimes: Their structures are no longer capable of responding to current needs. No one wants our political system to fail more than Russian President Vladimir Putin does, and our powerlessness on guns hardly enhances our democracy’s image to the world. It is worth revisiting reports last spring in Time magazine and The Post about the relationships that Russians close to their government are cultivating with the U.S. gun lobby as part of the outreach by pro-Putin forces to the far right. And Peter Stone and Greg Gordon of McClatchy reported in January that the FBI “is investigating whether a top Russian banker with ties to the Kremlin illegally funneled money to the National Rifle Association to help Donald Trump win the presidency.”  Wherever this Russia story goes, we already know that the NRA and its political servants are immobilizing our government on one of the gravest problems confronting us. What would we say about any other country that watched its children gunned down again and again and did absolutely nothing?  Read more from E.J. Dionne’s archive, follow him on Twitter or subscribe to his updates on Facebook.    Read more on this topic:   Colbert I. King: You can do something about guns. In the voting booth.   Kathleen Parker: A shooting survivor’s plea: ‘Ideas are great’ but ‘what we need is action’   The Post’s View: Ban these weapons of war   Elizabeth Bruenig: The latest schoolhouse slaughter shows we have been defeated   David Von Drehle: Another school shooting, another cruel reminder to parents  \n"
     ]
    }
   ],
   "source": [
    "print (article)"
   ]
  },
  {
   "cell_type": "code",
   "execution_count": null,
   "metadata": {
    "collapsed": true
   },
   "outputs": [],
   "source": []
  }
 ],
 "metadata": {
  "kernelspec": {
   "display_name": "Python 3",
   "language": "python",
   "name": "python3"
  },
  "language_info": {
   "codemirror_mode": {
    "name": "ipython",
    "version": 3
   },
   "file_extension": ".py",
   "mimetype": "text/x-python",
   "name": "python",
   "nbconvert_exporter": "python",
   "pygments_lexer": "ipython3",
   "version": "3.6.1"
  }
 },
 "nbformat": 4,
 "nbformat_minor": 2
}
